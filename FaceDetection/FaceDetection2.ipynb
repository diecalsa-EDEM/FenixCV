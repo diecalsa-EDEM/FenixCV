{
 "cells": [
  {
   "cell_type": "markdown",
   "metadata": {},
   "source": [
    "### Importamos librerías"
   ]
  },
  {
   "cell_type": "code",
   "execution_count": 11,
   "metadata": {},
   "outputs": [],
   "source": [
    "import cv2\n",
    "import numpy as np\n",
    "import matplotlib.pyplot as plt\n",
    "%matplotlib inline"
   ]
  },
  {
   "cell_type": "markdown",
   "metadata": {},
   "source": [
    "### Seleccionamos la ruta donde se encuentra el clasificador de OpenCV  `haarcascade` y creamos el clasificador"
   ]
  },
  {
   "cell_type": "code",
   "execution_count": 3,
   "metadata": {},
   "outputs": [],
   "source": [
    "face_cascade = cv2.CascadeClassifier(\n",
    "    '/Users/Diego/opencv-course/lib/python3.7/site-packages/cv2/data/haarcascade_frontalface_alt2.xml')"
   ]
  },
  {
   "cell_type": "markdown",
   "metadata": {},
   "source": [
    "### Inicialización de la cámara para la adquisición de imágenes\n",
    "\n",
    "```python\n",
    "cap = cv2.VideoCapture(0)\n",
    "```\n",
    "\n",
    "El 0 hace referencia a que se active la primera cámara que encuentre que por defecto es la webcam"
   ]
  },
  {
   "cell_type": "code",
   "execution_count": 13,
   "metadata": {},
   "outputs": [],
   "source": [
    "cap = cv2.VideoCapture(0)"
   ]
  },
  {
   "cell_type": "code",
   "execution_count": 14,
   "metadata": {},
   "outputs": [
    {
     "name": "stdout",
     "output_type": "stream",
     "text": [
      "677 105 228 228\n",
      "673 101 228 228\n",
      "648 97 228 228\n",
      "642 96 228 228\n",
      "634 97 228 228\n",
      "633 94 228 228\n",
      "633 96 228 228\n",
      "633 96 228 228\n",
      "632 97 228 228\n",
      "631 96 228 228\n",
      "631 96 228 228\n",
      "632 97 228 228\n",
      "630 97 228 228\n",
      "631 98 228 228\n",
      "632 98 228 228\n",
      "631 95 228 228\n",
      "629 96 228 228\n",
      "626 97 228 228\n",
      "611 93 228 228\n",
      "601 94 228 228\n",
      "598 93 228 228\n",
      "601 95 228 228\n",
      "601 95 228 228\n",
      "599 96 228 228\n",
      "604 97 228 228\n",
      "606 96 228 228\n",
      "605 95 228 228\n",
      "606 96 228 228\n",
      "596 97 228 228\n",
      "574 97 228 228\n",
      "571 95 228 228\n",
      "565 96 228 228\n",
      "561 96 228 228\n",
      "556 95 228 228\n",
      "551 96 228 228\n",
      "536 101 228 228\n",
      "517 107 228 228\n",
      "508 110 228 228\n",
      "507 108 228 228\n",
      "505 110 228 228\n",
      "504 111 228 228\n",
      "507 107 228 228\n",
      "507 108 228 228\n",
      "506 107 228 228\n",
      "507 108 228 228\n",
      "516 107 228 228\n",
      "518 107 228 228\n",
      "526 108 228 228\n",
      "524 108 228 228\n",
      "528 108 228 228\n",
      "528 110 228 228\n",
      "530 111 228 228\n",
      "529 112 228 228\n",
      "532 113 228 228\n",
      "532 113 228 228\n",
      "532 115 228 228\n",
      "535 114 228 228\n",
      "537 112 228 228\n",
      "535 111 228 228\n",
      "535 111 228 228\n",
      "535 113 228 228\n",
      "535 111 228 228\n",
      "535 111 228 228\n",
      "535 111 228 228\n",
      "535 111 228 228\n",
      "535 111 228 228\n",
      "537 112 228 228\n",
      "537 112 228 228\n",
      "537 112 228 228\n",
      "533 111 228 228\n",
      "537 112 228 228\n",
      "532 109 228 228\n",
      "527 108 228 228\n",
      "526 107 228 228\n",
      "524 108 228 228\n",
      "524 108 228 228\n",
      "524 108 228 228\n",
      "524 108 228 228\n",
      "526 108 228 228\n",
      "526 107 228 228\n",
      "527 108 228 228\n",
      "529 107 228 228\n",
      "530 106 228 228\n",
      "532 107 228 228\n",
      "530 108 228 228\n",
      "530 108 228 228\n",
      "533 108 228 228\n",
      "534 107 228 228\n",
      "532 106 228 228\n",
      "535 108 228 228\n",
      "538 106 228 228\n",
      "549 94 228 228\n",
      "559 84 228 228\n",
      "564 83 228 228\n",
      "560 78 228 228\n",
      "549 80 228 228\n",
      "540 76 228 228\n",
      "540 80 228 228\n",
      "537 78 228 228\n",
      "552 83 228 228\n",
      "556 81 228 228\n",
      "575 88 228 228\n",
      "590 90 228 228\n",
      "633 99 228 228\n"
     ]
    }
   ],
   "source": [
    "while(True):\n",
    "    ret,frame = cap.read()\n",
    "    \n",
    "    gray = cv2.cvtColor(frame, cv2.COLOR_BGR2GRAY)\n",
    "    \n",
    "    faces = face_cascade.detectMultiScale(gray, scaleFactor = 1.5, minNeighbors = 10)\n",
    "    disp_image = frame.copy()\n",
    "    if(len(faces)>0):\n",
    "        for x,y,w,h in faces:\n",
    "            print(x,y,w,h)\n",
    "            x1 = x\n",
    "            y1 = y\n",
    "            x2 = x1 + w\n",
    "            y2 = y1 + h\n",
    "            disp_image = cv2.rectangle(frame,(x1,y1),(x2,y2),(0,255,0), thickness = 3)\n",
    "\n",
    "        cv2.imshow('Image', disp_image)\n",
    "    else:\n",
    "        cv2.imshow('Image', frame)\n",
    "    \n",
    "    if(cv2.waitKey(1) & 0xFF == ord('q')):\n",
    "        break\n",
    "\n",
    "cap.release()\n",
    "cv2.destroyAllWindows()"
   ]
  },
  {
   "cell_type": "code",
   "execution_count": null,
   "metadata": {},
   "outputs": [],
   "source": []
  }
 ],
 "metadata": {
  "kernelspec": {
   "display_name": "Python 3",
   "language": "python",
   "name": "python3"
  },
  "language_info": {
   "codemirror_mode": {
    "name": "ipython",
    "version": 3
   },
   "file_extension": ".py",
   "mimetype": "text/x-python",
   "name": "python",
   "nbconvert_exporter": "python",
   "pygments_lexer": "ipython3",
   "version": "3.7.6rc1"
  }
 },
 "nbformat": 4,
 "nbformat_minor": 4
}
