{
 "cells": [
  {
   "cell_type": "markdown",
   "metadata": {},
   "source": [
    "## Importación de librerías"
   ]
  },
  {
   "cell_type": "code",
   "execution_count": 2,
   "metadata": {},
   "outputs": [],
   "source": [
    "import cv2\n",
    "import dlib\n",
    "import cv2\n",
    "from random import randint\n",
    "import numpy as np\n",
    "import matplotlib.pyplot as plt\n",
    "%matplotlib inline"
   ]
  },
  {
   "cell_type": "markdown",
   "metadata": {},
   "source": [
    "## Creación de tracker"
   ]
  },
  {
   "cell_type": "code",
   "execution_count": 3,
   "metadata": {},
   "outputs": [],
   "source": [
    "trackerTypes = ['BOOSTING', 'MIL', 'KCF','TLD', 'MEDIANFLOW', 'GOTURN', 'MOSSE', 'CSRT']"
   ]
  },
  {
   "cell_type": "code",
   "execution_count": 4,
   "metadata": {},
   "outputs": [],
   "source": [
    "def createTrackerByName(trackerType):\n",
    "  # Create a tracker based on tracker name\n",
    "  if trackerType == trackerTypes[0]:\n",
    "    tracker = cv2.TrackerBoosting_create()\n",
    "  elif trackerType == trackerTypes[1]:\n",
    "    tracker = cv2.TrackerMIL_create()\n",
    "  elif trackerType == trackerTypes[2]:\n",
    "    tracker = cv2.TrackerKCF_create()\n",
    "  elif trackerType == trackerTypes[3]:\n",
    "    tracker = cv2.TrackerTLD_create()\n",
    "  elif trackerType == trackerTypes[4]:\n",
    "    tracker = cv2.TrackerMedianFlow_create()\n",
    "  elif trackerType == trackerTypes[5]:\n",
    "    tracker = cv2.TrackerGOTURN_create()\n",
    "  elif trackerType == trackerTypes[6]:\n",
    "    tracker = cv2.TrackerMOSSE_create()\n",
    "  elif trackerType == trackerTypes[7]:\n",
    "    tracker = cv2.TrackerCSRT_create()\n",
    "  else:\n",
    "    tracker = None\n",
    "    print('Incorrect tracker name')\n",
    "    print('Available trackers are:')\n",
    "    for t in trackerTypes:\n",
    "      print(t)\n",
    "\n",
    "  return tracker"
   ]
  },
  {
   "cell_type": "markdown",
   "metadata": {},
   "source": [
    "## Inicialización de vídeo"
   ]
  },
  {
   "cell_type": "code",
   "execution_count": 6,
   "metadata": {},
   "outputs": [
    {
     "name": "stdout",
     "output_type": "stream",
     "text": [
      "WebCam succesfully opened\n"
     ]
    }
   ],
   "source": [
    "cap = cv2.VideoCapture(0)\n",
    "\n",
    "if(cap.isOpened()):\n",
    "    print('WebCam succesfully opened')"
   ]
  },
  {
   "cell_type": "markdown",
   "metadata": {},
   "source": [
    "## Bucle principal de detección + tracking de facial"
   ]
  },
  {
   "cell_type": "code",
   "execution_count": 8,
   "metadata": {},
   "outputs": [
    {
     "name": "stdout",
     "output_type": "stream",
     "text": [
      "No WebCam has been initialized.\n"
     ]
    }
   ],
   "source": [
    "# Face detector\n",
    "face_detector = dlib.get_frontal_face_detector()\n",
    "\n",
    "# Obtener primer frame\n",
    "if(cap.isOpened()):\n",
    "    ret,frame = cap.read()\n",
    "\n",
    "    h,w,c = frame.shape\n",
    "\n",
    "    nframe = 0\n",
    "    noTracking = False\n",
    "    ok = True\n",
    "\n",
    "    while(1):\n",
    "        timer = cv2.getTickCount()\n",
    "        ret, frame = cap.read()\n",
    "        frame = cv2.resize(frame,(int(w/2),int(h/2)))\n",
    "        frame_rect = frame.copy()\n",
    "\n",
    "        if(nframe == 0):\n",
    "            # Face detection\n",
    "            detector_status = 'Detection'\n",
    "            noTracking = False\n",
    "            gray = cv2.cvtColor(frame, cv2.COLOR_BGR2GRAY)\n",
    "            faces = face_detector(gray)\n",
    "            color = (255,0,0)\n",
    "\n",
    "            #Initializa Multi tracker variables\n",
    "            bboxes = []\n",
    "            colors = []\n",
    "\n",
    "            # Create Multi tracker\n",
    "            multiTracker = cv2.MultiTracker_create()\n",
    "\n",
    "            for face in faces:\n",
    "                # Get the bbox\n",
    "                x1 = face.left()\n",
    "                y1 = face.top()\n",
    "                x2 = face.right()\n",
    "                y2 = face.bottom()\n",
    "                bbox = (x1,y1,x2-x1,y2-y1)\n",
    "                bboxes.append(bbox)\n",
    "\n",
    "                # Create random color\n",
    "                color = (randint(64, 255), randint(64, 255),randint(64, 255))\n",
    "                colors.append(color)\n",
    "\n",
    "                # Create new tracker\n",
    "                tracker = createTrackerByName(trackerTypes[2])\n",
    "                multiTracker.add(tracker, frame, bbox)\n",
    "\n",
    "                frame_rect = cv2.rectangle(frame_rect,(x1,y1),(x2,y2), color = color, thickness = 3)\n",
    "            if(len(faces)>0):\n",
    "                nframe+=1\n",
    "        else:\n",
    "            # Face tracking\n",
    "            detector_status = 'Tracking'\n",
    "\n",
    "            # Actualizamos el tracking\n",
    "            ok, bboxs = multiTracker.update(frame)\n",
    "            if(ok):\n",
    "                nframe+=1\n",
    "                for i,bbox in enumerate(bboxs):\n",
    "                    p1 = (int(bbox[0]), int(bbox[1]))\n",
    "                    p2 = (int(bbox[0] + bbox[2]), int(bbox[1] + bbox[3]))\n",
    "                    frame_rect = cv2.rectangle(frame_rect,p1,p2, color = colors[i], thickness = 3)\n",
    "\n",
    "            else:\n",
    "                noTracking = True\n",
    "                detector_status = 'Tracking lost'\n",
    "\n",
    "        if(nframe == 50 or noTracking):\n",
    "            # Cada x frames o si falla el tracking pasamos a detección\n",
    "            nframe = 0\n",
    "\n",
    "        if(cv2.waitKey(0) & 0xFF == ord('q')):\n",
    "            break\n",
    "\n",
    "        fps = cv2.getTickFrequency() / (cv2.getTickCount() - timer);\n",
    "\n",
    "        cv2.putText(frame_rect,'FPS: {} Status: {}'.format(int(fps),detector_status),(20,40), cv2.FONT_HERSHEY_SIMPLEX,1, color = color)\n",
    "        cv2.imshow('Image', frame_rect)\n",
    "\n",
    "\n",
    "    cap.release()\n",
    "    cv2.destroyAllWindows()\n",
    "else:\n",
    "    print('No WebCam has been initialized.')"
   ]
  }
 ],
 "metadata": {
  "kernelspec": {
   "display_name": "Python 3",
   "language": "python",
   "name": "python3"
  },
  "language_info": {
   "codemirror_mode": {
    "name": "ipython",
    "version": 3
   },
   "file_extension": ".py",
   "mimetype": "text/x-python",
   "name": "python",
   "nbconvert_exporter": "python",
   "pygments_lexer": "ipython3",
   "version": "3.7.6rc1"
  }
 },
 "nbformat": 4,
 "nbformat_minor": 4
}
